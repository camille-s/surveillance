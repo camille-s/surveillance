{
 "cells": [
  {
   "cell_type": "code",
   "execution_count": null,
   "metadata": {},
   "outputs": [],
   "source": [
    "import ipywidgets as widgets"
   ]
  },
  {
   "cell_type": "code",
   "execution_count": null,
   "metadata": {},
   "outputs": [],
   "source": [
    "DEFAULTS = {\n",
    "    'size': 640,\n",
    "    'heading': 140,\n",
    "    'pitch': 10,\n",
    "    'fov': 50\n",
    "}"
   ]
  },
  {
   "cell_type": "code",
   "execution_count": null,
   "metadata": {},
   "outputs": [],
   "source": [
    "output = widgets.Output()\n",
    "lbl_style = {'description_width': '200px'}\n",
    "layout = widgets.Layout(width='600px')\n",
    "location = widgets.Text(value='33rd & Loch Raven Baltimore MD',\n",
    "                        description='Location',\n",
    "                        layout=layout,\n",
    "                        style=lbl_style)\n",
    "size = widgets.IntSlider(value=DEFAULTS['size'],\n",
    "                         min=100,\n",
    "                         max=1024,\n",
    "                         layout=layout,\n",
    "                         style=lbl_style,\n",
    "                         description='Image size')\n",
    "heading = widgets.IntSlider(value=DEFAULTS['heading'],\n",
    "                            min=0,\n",
    "                            max=360,\n",
    "                            layout=layout,\n",
    "                            style=lbl_style,\n",
    "                            description='Heading (rotation)')\n",
    "pitch = widgets.IntSlider(value=DEFAULTS['pitch'],\n",
    "                          min=0,\n",
    "                          max=40,\n",
    "                          layout=layout,\n",
    "                          style=lbl_style,\n",
    "                          description='Pitch (tilt)')\n",
    "fov = widgets.IntSlider(value=DEFAULTS['fov'],\n",
    "                        min=10,\n",
    "                        max=120,\n",
    "                        layout=layout,\n",
    "                        style=lbl_style,\n",
    "                        description='Field of view (zoom)')\n",
    "\n",
    "button = widgets.Button(description='Get image')\n",
    "\n",
    "display(location, size, heading, pitch, fov, button, output)\n",
    "\n",
    "\n",
    "def button_click(b):\n",
    "    with output:\n",
    "        output.clear_output()\n",
    "        txt = f'test: location = {location.value}'\n",
    "        print(txt)\n",
    "    return txt\n",
    "\n",
    "sv_img = button.on_click(button_click)\n"
   ]
  },
  {
   "cell_type": "code",
   "execution_count": null,
   "metadata": {},
   "outputs": [],
   "source": []
  },
  {
   "cell_type": "code",
   "execution_count": null,
   "metadata": {},
   "outputs": [],
   "source": []
  },
  {
   "cell_type": "code",
   "execution_count": null,
   "metadata": {},
   "outputs": [],
   "source": []
  }
 ],
 "metadata": {
  "kernelspec": {
   "display_name": "voila",
   "language": "python",
   "name": "python3"
  },
  "language_info": {
   "name": "python",
   "version": "3.11.5"
  }
 },
 "nbformat": 4,
 "nbformat_minor": 2
}
