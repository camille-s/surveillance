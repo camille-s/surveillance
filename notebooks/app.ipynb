{
 "cells": [
  {
   "cell_type": "code",
   "execution_count": 1,
   "metadata": {},
   "outputs": [],
   "source": [
    "import ipywidgets as widgets"
   ]
  },
  {
   "cell_type": "code",
   "execution_count": 2,
   "metadata": {},
   "outputs": [],
   "source": [
    "DEFAULTS = {\n",
    "    'size': 640,\n",
    "    'heading': 140,\n",
    "    'pitch': 10,\n",
    "    'fov': 50\n",
    "}"
   ]
  },
  {
   "cell_type": "code",
   "execution_count": 3,
   "metadata": {},
   "outputs": [
    {
     "data": {
      "application/vnd.jupyter.widget-view+json": {
       "model_id": "57fe1b257f5448208a6e6c07ada26ef8",
       "version_major": 2,
       "version_minor": 0
      },
      "text/plain": [
       "Text(value='33rd & Loch Raven Baltimore MD', description='Location', layout=Layout(width='600px'), style=TextS…"
      ]
     },
     "metadata": {},
     "output_type": "display_data"
    },
    {
     "data": {
      "application/vnd.jupyter.widget-view+json": {
       "model_id": "6a4f58d9f343425993aa59f5e3271118",
       "version_major": 2,
       "version_minor": 0
      },
      "text/plain": [
       "IntSlider(value=640, description='Image size', layout=Layout(width='600px'), max=1024, min=100, style=SliderSt…"
      ]
     },
     "metadata": {},
     "output_type": "display_data"
    },
    {
     "data": {
      "application/vnd.jupyter.widget-view+json": {
       "model_id": "36da56e191be4d7fb5c26a3e90145d4b",
       "version_major": 2,
       "version_minor": 0
      },
      "text/plain": [
       "IntSlider(value=140, description='Heading (rotation)', layout=Layout(width='600px'), max=360, style=SliderStyl…"
      ]
     },
     "metadata": {},
     "output_type": "display_data"
    },
    {
     "data": {
      "application/vnd.jupyter.widget-view+json": {
       "model_id": "cb10a0a70dc04d2690dc41d7eec0bb1f",
       "version_major": 2,
       "version_minor": 0
      },
      "text/plain": [
       "IntSlider(value=10, description='Pitch (tilt)', layout=Layout(width='600px'), max=40, style=SliderStyle(descri…"
      ]
     },
     "metadata": {},
     "output_type": "display_data"
    },
    {
     "data": {
      "application/vnd.jupyter.widget-view+json": {
       "model_id": "2425ac1c49504ec199bdee5abee9d2e3",
       "version_major": 2,
       "version_minor": 0
      },
      "text/plain": [
       "IntSlider(value=50, description='Field of view (zoom)', layout=Layout(width='600px'), max=120, min=10, style=S…"
      ]
     },
     "metadata": {},
     "output_type": "display_data"
    },
    {
     "data": {
      "application/vnd.jupyter.widget-view+json": {
       "model_id": "da832f9cbde14700a60901e887b1789c",
       "version_major": 2,
       "version_minor": 0
      },
      "text/plain": [
       "Button(description='Get image', style=ButtonStyle())"
      ]
     },
     "metadata": {},
     "output_type": "display_data"
    },
    {
     "data": {
      "application/vnd.jupyter.widget-view+json": {
       "model_id": "3d8bec926ef0413db6d9865418dc2045",
       "version_major": 2,
       "version_minor": 0
      },
      "text/plain": [
       "Output()"
      ]
     },
     "metadata": {},
     "output_type": "display_data"
    }
   ],
   "source": [
    "output = widgets.Output()\n",
    "lbl_style = {'description_width': '200px'}\n",
    "layout = widgets.Layout(width='600px')\n",
    "location = widgets.Text(value='33rd & Loch Raven Baltimore MD',\n",
    "                        description='Location',\n",
    "                        layout=layout,\n",
    "                        style=lbl_style)\n",
    "size = widgets.IntSlider(value=DEFAULTS['size'],\n",
    "                         min=100,\n",
    "                         max=1024,\n",
    "                         layout=layout,\n",
    "                         style=lbl_style,\n",
    "                         description='Image size')\n",
    "heading = widgets.IntSlider(value=DEFAULTS['heading'],\n",
    "                            min=0,\n",
    "                            max=360,\n",
    "                            layout=layout,\n",
    "                            style=lbl_style,\n",
    "                            description='Heading (rotation)')\n",
    "pitch = widgets.IntSlider(value=DEFAULTS['pitch'],\n",
    "                          min=0,\n",
    "                          max=40,\n",
    "                          layout=layout,\n",
    "                          style=lbl_style,\n",
    "                          description='Pitch (tilt)')\n",
    "fov = widgets.IntSlider(value=DEFAULTS['fov'],\n",
    "                        min=10,\n",
    "                        max=120,\n",
    "                        layout=layout,\n",
    "                        style=lbl_style,\n",
    "                        description='Field of view (zoom)')\n",
    "\n",
    "button = widgets.Button(description='Get image')\n",
    "\n",
    "display(location, size, heading, pitch, fov, button, output)\n",
    "\n",
    "\n",
    "def button_click(b):\n",
    "    output.clear_output()\n",
    "    with output:\n",
    "        txt = f'location: {location.value}'\n",
    "        print(txt)\n",
    "    return txt\n",
    "\n",
    "sv_img = button.on_click(button_click)\n"
   ]
  },
  {
   "cell_type": "code",
   "execution_count": null,
   "metadata": {},
   "outputs": [],
   "source": []
  },
  {
   "cell_type": "code",
   "execution_count": null,
   "metadata": {},
   "outputs": [],
   "source": []
  },
  {
   "cell_type": "code",
   "execution_count": null,
   "metadata": {},
   "outputs": [],
   "source": []
  }
 ],
 "metadata": {
  "kernelspec": {
   "display_name": "voila",
   "language": "python",
   "name": "python3"
  },
  "language_info": {
   "codemirror_mode": {
    "name": "ipython",
    "version": 3
   },
   "file_extension": ".py",
   "mimetype": "text/x-python",
   "name": "python",
   "nbconvert_exporter": "python",
   "pygments_lexer": "ipython3",
   "version": "3.11.5"
  }
 },
 "nbformat": 4,
 "nbformat_minor": 2
}
